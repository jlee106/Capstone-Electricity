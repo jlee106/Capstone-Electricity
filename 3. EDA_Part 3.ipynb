{
 "cells": [
  {
   "cell_type": "markdown",
   "id": "757c897a",
   "metadata": {},
   "source": [
    "## Now for the 3rd and last part of the EDA, to explore low tension tariff - domestic to understand the household electricity sector\n",
    "- will look at mainly the quarterly tariff (since tariff is set by EMA & SP on a quarterly basis), LNG and crude oil prices.\n",
    "    - Singapore's fuel mix for electricity generation is >90% Natural Gas, of which it is a ~50-50 split between Liquefied NG & Pipeline NG\n",
    "    - LNG has its own indices whereas PNG is closely related with crude oil indices."
   ]
  },
  {
   "cell_type": "code",
   "execution_count": 1,
   "id": "d42d1cbb",
   "metadata": {},
   "outputs": [],
   "source": [
    "import pandas as pd\n",
    "import numpy as np\n",
    "import matplotlib.pyplot as plt\n",
    "import seaborn as sns"
   ]
  },
  {
   "cell_type": "code",
   "execution_count": 2,
   "id": "dce22df6",
   "metadata": {},
   "outputs": [],
   "source": [
    "#monthly electricity tariff from EMA\n",
    "tariffs = pd.read_csv('./datasets/ElectricityTariffMonthly.csv')"
   ]
  },
  {
   "cell_type": "code",
   "execution_count": 3,
   "id": "21064d3a",
   "metadata": {},
   "outputs": [],
   "source": [
    "#transform rows to be by date level\n",
    "tariffs = tariffs.T"
   ]
  },
  {
   "cell_type": "code",
   "execution_count": 4,
   "id": "514ce765",
   "metadata": {},
   "outputs": [],
   "source": [
    "tariffs.columns = tariffs.iloc[0]\n",
    "tariffs = tariffs[1:]\n",
    "tariffs = tariffs.reset_index()"
   ]
  },
  {
   "cell_type": "code",
   "execution_count": 5,
   "id": "bd36bd70",
   "metadata": {},
   "outputs": [],
   "source": [
    "#rename some columns for easier reference \n",
    "tariffs.rename(columns={'index':'Date', 'Low Tension Supplies - Domestic':'low_tension_domestic'},inplace=True)"
   ]
  },
  {
   "cell_type": "code",
   "execution_count": 6,
   "id": "5c83bff2",
   "metadata": {},
   "outputs": [],
   "source": [
    "tariffs = tariffs[['Date','low_tension_domestic']]"
   ]
  },
  {
   "cell_type": "code",
   "execution_count": 7,
   "id": "f4fe850e",
   "metadata": {},
   "outputs": [
    {
     "data": {
      "text/plain": [
       "<Axes: >"
      ]
     },
     "execution_count": 7,
     "metadata": {},
     "output_type": "execute_result"
    },
    {
     "data": {
      "image/png": "[encoded data removed]",
      "text/plain": [
       "<Figure size 640x480 with 1 Axes>"
      ]
     },
     "metadata": {},
     "output_type": "display_data"
    }
   ],
   "source": [
    "tariffs['Date'] = pd.to_datetime(tariffs['Date'],format='%Y%b')\n",
    "tariffs['low_tension_domestic'].plot()"
   ]
  },
  {
   "cell_type": "code",
   "execution_count": 8,
   "id": "aaf019ae",
   "metadata": {},
   "outputs": [],
   "source": [
    "#now to look at oil prices (using the crude oil index DCOILWTICO)\n",
    "oil_prices = pd.read_csv('./datasets/DCOILWTICO.csv')"
   ]
  },
  {
   "cell_type": "code",
   "execution_count": 9,
   "id": "205e918f",
   "metadata": {},
   "outputs": [],
   "source": [
    "#rename for more easily understood name\n",
    "oil_prices.rename(columns={'observation_date':'Date','DCOILWTICO':'oil_price_usd_barrel'},inplace=True)"
   ]
  },
  {
   "cell_type": "code",
   "execution_count": 10,
   "id": "31eec057",
   "metadata": {},
   "outputs": [],
   "source": [
    "#chagne to datetime and set as index for timeseries\n",
    "oil_prices['Date']=pd.to_datetime(oil_prices['Date'])\n",
    "oil_prices.set_index('Date', inplace=True)\n",
    "\n",
    "# Resample to monthly frequency and take the average\n",
    "oil_prices_monthly = oil_prices.resample('MS').mean()"
   ]
  },
  {
   "cell_type": "code",
   "execution_count": 11,
   "id": "c00a2388",
   "metadata": {},
   "outputs": [],
   "source": [
    "oil_prices_monthly = oil_prices_monthly.reset_index()"
   ]
  },
  {
   "cell_type": "code",
   "execution_count": null,
   "id": "8bc6bf3e",
   "metadata": {},
   "outputs": [],
   "source": [
    "#now to prep the lng index with same step\n",
    "lng_prices = pd.read_csv('./datasets/PNGASJPUSDM.csv')"
   ]
  },
  {
   "cell_type": "code",
   "execution_count": 13,
   "id": "fad0f1c9",
   "metadata": {},
   "outputs": [],
   "source": [
    "lng_prices.rename(columns={'observation_date':'Date','PNGASJPUSDM':'lng_price_usd_MMBtu'},inplace=True)"
   ]
  },
  {
   "cell_type": "code",
   "execution_count": 14,
   "id": "ce073f31",
   "metadata": {},
   "outputs": [],
   "source": [
    "lng_prices['Date']=pd.to_datetime(lng_prices['Date'])"
   ]
  },
  {
   "cell_type": "code",
   "execution_count": 15,
   "id": "663e463a",
   "metadata": {},
   "outputs": [],
   "source": [
    "lng_prices.set_index('Date', inplace=True)\n",
    "\n",
    "# Resample to monthly frequency and take the average and reset index to get date column for merging\n",
    "lng_prices_monthly = lng_prices.resample('MS').mean()\n",
    "lng_prices_monthly = lng_prices_monthly.reset_index()"
   ]
  },
  {
   "cell_type": "code",
   "execution_count": null,
   "id": "75a09469",
   "metadata": {},
   "outputs": [
    {
     "data": {
      "text/html": [
       "<div>\n",
       "<style scoped>\n",
       "    .dataframe tbody tr th:only-of-type {\n",
       "        vertical-align: middle;\n",
       "    }\n",
       "\n",
       "    .dataframe tbody tr th {\n",
       "        vertical-align: top;\n",
       "    }\n",
       "\n",
       "    .dataframe thead th {\n",
       "        text-align: right;\n",
       "    }\n",
       "</style>\n",
       "<table border=\"1\" class=\"dataframe\">\n",
       "  <thead>\n",
       "    <tr style=\"text-align: right;\">\n",
       "      <th></th>\n",
       "      <th>Date</th>\n",
       "      <th>low_tension_domestic</th>\n",
       "      <th>oil_price_usd_barrel</th>\n",
       "    </tr>\n",
       "  </thead>\n",
       "  <tbody>\n",
       "    <tr>\n",
       "      <th>0</th>\n",
       "      <td>2025-09-01</td>\n",
       "      <td>27.47</td>\n",
       "      <td>NaN</td>\n",
       "    </tr>\n",
       "    <tr>\n",
       "      <th>1</th>\n",
       "      <td>2025-08-01</td>\n",
       "      <td>27.47</td>\n",
       "      <td>NaN</td>\n",
       "    </tr>\n",
       "    <tr>\n",
       "      <th>2</th>\n",
       "      <td>2025-07-01</td>\n",
       "      <td>27.47</td>\n",
       "      <td>68.594444</td>\n",
       "    </tr>\n",
       "    <tr>\n",
       "      <th>3</th>\n",
       "      <td>2025-06-01</td>\n",
       "      <td>28.12</td>\n",
       "      <td>68.169000</td>\n",
       "    </tr>\n",
       "    <tr>\n",
       "      <th>4</th>\n",
       "      <td>2025-05-01</td>\n",
       "      <td>28.12</td>\n",
       "      <td>62.167619</td>\n",
       "    </tr>\n",
       "  </tbody>\n",
       "</table>\n",
       "</div>"
      ],
      "text/plain": [
       "        Date low_tension_domestic  oil_price_usd_barrel\n",
       "0 2025-09-01                27.47                   NaN\n",
       "1 2025-08-01                27.47                   NaN\n",
       "2 2025-07-01                27.47             68.594444\n",
       "3 2025-06-01                28.12             68.169000\n",
       "4 2025-05-01                28.12             62.167619"
      ]
     },
     "execution_count": 16,
     "metadata": {},
     "output_type": "execute_result"
    }
   ],
   "source": [
    "#now merge the 3 dfs together\n",
    "merged = pd.merge(left = tariffs, right = oil_prices_monthly,how = 'left', on='Date')\n",
    "merged.head()"
   ]
  },
  {
   "cell_type": "code",
   "execution_count": 17,
   "id": "9b82d2a4",
   "metadata": {},
   "outputs": [
    {
     "data": {
      "text/html": [
       "<div>\n",
       "<style scoped>\n",
       "    .dataframe tbody tr th:only-of-type {\n",
       "        vertical-align: middle;\n",
       "    }\n",
       "\n",
       "    .dataframe tbody tr th {\n",
       "        vertical-align: top;\n",
       "    }\n",
       "\n",
       "    .dataframe thead th {\n",
       "        text-align: right;\n",
       "    }\n",
       "</style>\n",
       "<table border=\"1\" class=\"dataframe\">\n",
       "  <thead>\n",
       "    <tr style=\"text-align: right;\">\n",
       "      <th></th>\n",
       "      <th>Date</th>\n",
       "      <th>low_tension_domestic</th>\n",
       "      <th>oil_price_usd_barrel</th>\n",
       "      <th>lng_price_usd_MMBtu</th>\n",
       "    </tr>\n",
       "  </thead>\n",
       "  <tbody>\n",
       "    <tr>\n",
       "      <th>0</th>\n",
       "      <td>2025-09-01</td>\n",
       "      <td>27.47</td>\n",
       "      <td>NaN</td>\n",
       "      <td>NaN</td>\n",
       "    </tr>\n",
       "    <tr>\n",
       "      <th>1</th>\n",
       "      <td>2025-08-01</td>\n",
       "      <td>27.47</td>\n",
       "      <td>NaN</td>\n",
       "      <td>NaN</td>\n",
       "    </tr>\n",
       "    <tr>\n",
       "      <th>2</th>\n",
       "      <td>2025-07-01</td>\n",
       "      <td>27.47</td>\n",
       "      <td>68.594444</td>\n",
       "      <td>NaN</td>\n",
       "    </tr>\n",
       "    <tr>\n",
       "      <th>3</th>\n",
       "      <td>2025-06-01</td>\n",
       "      <td>28.12</td>\n",
       "      <td>68.169000</td>\n",
       "      <td>12.963</td>\n",
       "    </tr>\n",
       "    <tr>\n",
       "      <th>4</th>\n",
       "      <td>2025-05-01</td>\n",
       "      <td>28.12</td>\n",
       "      <td>62.167619</td>\n",
       "      <td>11.678</td>\n",
       "    </tr>\n",
       "  </tbody>\n",
       "</table>\n",
       "</div>"
      ],
      "text/plain": [
       "        Date low_tension_domestic  oil_price_usd_barrel  lng_price_usd_MMBtu\n",
       "0 2025-09-01                27.47                   NaN                  NaN\n",
       "1 2025-08-01                27.47                   NaN                  NaN\n",
       "2 2025-07-01                27.47             68.594444                  NaN\n",
       "3 2025-06-01                28.12             68.169000               12.963\n",
       "4 2025-05-01                28.12             62.167619               11.678"
      ]
     },
     "execution_count": 17,
     "metadata": {},
     "output_type": "execute_result"
    }
   ],
   "source": [
    "merged=pd.merge(left = merged, right = lng_prices_monthly,how = 'left', on='Date')\n",
    "merged.head()"
   ]
  },
  {
   "cell_type": "code",
   "execution_count": 18,
   "id": "2025de41",
   "metadata": {},
   "outputs": [
    {
     "data": {
      "image/png": "[encoded data removed]",
      "text/plain": [
       "<Figure size 640x480 with 2 Axes>"
      ]
     },
     "metadata": {},
     "output_type": "display_data"
    }
   ],
   "source": [
    "#plot corr heatmap to see the correlation\n",
    "sns.heatmap(merged.drop(columns=['Date']).corr(), fmt='.2f', cmap='coolwarm', annot=True)\n",
    "plt.show()"
   ]
  },
  {
   "cell_type": "markdown",
   "id": "1fd1d47b",
   "metadata": {},
   "source": [
    "## Pretty strong correlation!"
   ]
  },
  {
   "cell_type": "code",
   "execution_count": 19,
   "id": "a4a9f69c",
   "metadata": {},
   "outputs": [
    {
     "data": {
      "text/html": [
       "<div>\n",
       "<style scoped>\n",
       "    .dataframe tbody tr th:only-of-type {\n",
       "        vertical-align: middle;\n",
       "    }\n",
       "\n",
       "    .dataframe tbody tr th {\n",
       "        vertical-align: top;\n",
       "    }\n",
       "\n",
       "    .dataframe thead th {\n",
       "        text-align: right;\n",
       "    }\n",
       "</style>\n",
       "<table border=\"1\" class=\"dataframe\">\n",
       "  <thead>\n",
       "    <tr style=\"text-align: right;\">\n",
       "      <th></th>\n",
       "      <th>low_tension_domestic</th>\n",
       "      <th>oil_price_usd_barrel</th>\n",
       "      <th>lng_price_usd_MMBtu</th>\n",
       "    </tr>\n",
       "    <tr>\n",
       "      <th>Date</th>\n",
       "      <th></th>\n",
       "      <th></th>\n",
       "      <th></th>\n",
       "    </tr>\n",
       "  </thead>\n",
       "  <tbody>\n",
       "    <tr>\n",
       "      <th>2025-06-01</th>\n",
       "      <td>28.12</td>\n",
       "      <td>68.169000</td>\n",
       "      <td>12.963</td>\n",
       "    </tr>\n",
       "    <tr>\n",
       "      <th>2025-05-01</th>\n",
       "      <td>28.12</td>\n",
       "      <td>62.167619</td>\n",
       "      <td>11.678</td>\n",
       "    </tr>\n",
       "    <tr>\n",
       "      <th>2025-04-01</th>\n",
       "      <td>28.12</td>\n",
       "      <td>63.536667</td>\n",
       "      <td>11.569</td>\n",
       "    </tr>\n",
       "    <tr>\n",
       "      <th>2025-03-01</th>\n",
       "      <td>28.12</td>\n",
       "      <td>68.239048</td>\n",
       "      <td>13.118</td>\n",
       "    </tr>\n",
       "    <tr>\n",
       "      <th>2025-02-01</th>\n",
       "      <td>28.12</td>\n",
       "      <td>71.533158</td>\n",
       "      <td>14.721</td>\n",
       "    </tr>\n",
       "    <tr>\n",
       "      <th>...</th>\n",
       "      <td>...</td>\n",
       "      <td>...</td>\n",
       "      <td>...</td>\n",
       "    </tr>\n",
       "    <tr>\n",
       "      <th>2012-05-01</th>\n",
       "      <td>28.78</td>\n",
       "      <td>94.654545</td>\n",
       "      <td>18.330</td>\n",
       "    </tr>\n",
       "    <tr>\n",
       "      <th>2012-04-01</th>\n",
       "      <td>28.78</td>\n",
       "      <td>103.321000</td>\n",
       "      <td>19.570</td>\n",
       "    </tr>\n",
       "    <tr>\n",
       "      <th>2012-03-01</th>\n",
       "      <td>27.59</td>\n",
       "      <td>106.157727</td>\n",
       "      <td>18.420</td>\n",
       "    </tr>\n",
       "    <tr>\n",
       "      <th>2012-02-01</th>\n",
       "      <td>27.59</td>\n",
       "      <td>102.204000</td>\n",
       "      <td>16.710</td>\n",
       "    </tr>\n",
       "    <tr>\n",
       "      <th>2012-01-01</th>\n",
       "      <td>27.59</td>\n",
       "      <td>100.273500</td>\n",
       "      <td>17.460</td>\n",
       "    </tr>\n",
       "  </tbody>\n",
       "</table>\n",
       "<p>162 rows × 3 columns</p>\n",
       "</div>"
      ],
      "text/plain": [
       "           low_tension_domestic  oil_price_usd_barrel  lng_price_usd_MMBtu\n",
       "Date                                                                      \n",
       "2025-06-01                28.12             68.169000               12.963\n",
       "2025-05-01                28.12             62.167619               11.678\n",
       "2025-04-01                28.12             63.536667               11.569\n",
       "2025-03-01                28.12             68.239048               13.118\n",
       "2025-02-01                28.12             71.533158               14.721\n",
       "...                         ...                   ...                  ...\n",
       "2012-05-01                28.78             94.654545               18.330\n",
       "2012-04-01                28.78            103.321000               19.570\n",
       "2012-03-01                27.59            106.157727               18.420\n",
       "2012-02-01                27.59            102.204000               16.710\n",
       "2012-01-01                27.59            100.273500               17.460\n",
       "\n",
       "[162 rows x 3 columns]"
      ]
     },
     "execution_count": 19,
     "metadata": {},
     "output_type": "execute_result"
    }
   ],
   "source": [
    "#now to drop the rows with null values and export\n",
    "merged = merged.dropna()\n",
    "merged = merged.set_index('Date')\n",
    "merged"
   ]
  },
  {
   "cell_type": "code",
   "execution_count": 22,
   "id": "05ac55df",
   "metadata": {},
   "outputs": [],
   "source": [
    "merged.to_csv('tariff_oilgas_prices.csv')"
   ]
  }
 ],
 "metadata": {
  "kernelspec": {
   "display_name": "Python 3",
   "language": "python",
   "name": "python3"
  },
  "language_info": {
   "codemirror_mode": {
    "name": "ipython",
    "version": 3
   },
   "file_extension": ".py",
   "mimetype": "text/x-python",
   "name": "python",
   "nbconvert_exporter": "python",
   "pygments_lexer": "ipython3",
   "version": "3.13.4"
  }
 },
 "nbformat": 4,
 "nbformat_minor": 5
}
